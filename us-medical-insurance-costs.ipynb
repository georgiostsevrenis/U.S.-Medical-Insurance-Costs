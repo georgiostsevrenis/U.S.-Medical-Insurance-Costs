{
 "cells": [
  {
   "cell_type": "markdown",
   "metadata": {},
   "source": [
    "# U.S. Medical Insurance Costs"
   ]
  },
  {
   "cell_type": "code",
   "execution_count": 1,
   "metadata": {},
   "outputs": [],
   "source": [
    "from pandas import *\n",
    "import pandas as pd\n",
    "import matplotlib.pyplot as plt\n",
    "import numpy as np\n",
    "from statistics import *\n",
    "insurance = read_csv('insurance.csv')"
   ]
  },
  {
   "cell_type": "code",
   "execution_count": 2,
   "metadata": {},
   "outputs": [],
   "source": [
    "ages = insurance [\"age\"]\n",
    "sexes = insurance [\"sex\"]\n",
    "bmis = insurance [\"bmi\"]\n",
    "num_kids = insurance [\"children\"]\n",
    "smoker_statuses = insurance [\"smoker\"]\n",
    "regions = insurance [\"region\"]\n",
    "insurance_charges = insurance [\"charges\"]"
   ]
  },
  {
   "cell_type": "code",
   "execution_count": 3,
   "metadata": {},
   "outputs": [],
   "source": [
    "class US_Insurance:\n",
    "    def __init__(self, patients_ages, patients_sexes, patients_bmis, patients_num_kids, patients_smoker_statuses, patients_regions, patients_charges):\n",
    "        self.patients_ages = patients_ages\n",
    "        self.patients_sexes = patients_sexes\n",
    "        self.patients_bmis = patients_bmis\n",
    "        self.patients_num_kids = patients_num_kids\n",
    "        self.patients_smoker_statuses = patients_smoker_statuses\n",
    "        self.patients_regions = patients_regions\n",
    "        self.patients_charges = patients_charges\n",
    "        \n",
    "            \n",
    "    def age_average(self):\n",
    "        age_and_charge = zip(ages, insurance_charges)\n",
    "        count_y_20 = 0 \n",
    "        count_21_30 = 0\n",
    "        count_31_40 = 0\n",
    "        count_41_50 = 0\n",
    "        count_51_60 = 0\n",
    "        count_61_o = 0\n",
    "        for age, insurance_charge in age_and_charge:\n",
    "            if age <= 20:   \n",
    "                count_y_20 += 1\n",
    "            elif age >= 21 and age <= 30:\n",
    "                count_21_30 += 1\n",
    "            elif age >= 31 and age <= 40:\n",
    "                count_31_40 += 1\n",
    "            elif age >= 41 and age <= 50:\n",
    "                count_41_50 += 1\n",
    "            elif age >= 51 and age <= 60:\n",
    "                count_51_60 += 1\n",
    "            else:\n",
    "                count_61_o += 1\n",
    "                \n",
    "        mean_count_y_20 = insurance.query(\"age<=20\").charges.mean()\n",
    "        mean_count_21_30 = insurance.query(\"age>=21 & age<=30\").charges.mean() \n",
    "        mean_count_31_40 = insurance.query(\"age>=31 & age<=40\").charges.mean()\n",
    "        mean_count_41_50 = insurance.query(\"age>=41 & age<=50\").charges.mean()\n",
    "        mean_count_51_60 = insurance.query(\"age>=51 & age<=60\").charges.mean()\n",
    "        mean_count_61_o = insurance.query(\"age<=61\").charges.mean()\n",
    "\n",
    "        print(\"The sum for the ages: \\n20s and less are\",\n",
    "              count_y_20,\"and the average of annual charges\", mean_count_y_20,\n",
    "              \"\\ncorresponding for 21 to 30 is\", count_21_30, \"and annual charges\", mean_count_21_30,\n",
    "             \"\\nfor 31 to 40 is\", count_31_40, \"and charges\", mean_count_31_40, \n",
    "             \"\\nfor 41 to 50 is\", count_41_50, \"and charges\", mean_count_41_50, \n",
    "             \"\\nfor 51 to 60 is\", count_51_60, \"and charges\", mean_count_51_60, \n",
    "             \"\\nand last 61 and over are\", count_61_o, \"and charges\", mean_count_61_o)\n",
    "        \n",
    "        age = np.array([\"> 20\", \"21 - 30\", \"31 - 40\", \"41 - 50\", \"51 - 60\", \"60 <\"])\n",
    "        charges = np.array([mean_count_y_20, mean_count_21_30, mean_count_31_40, mean_count_41_50, mean_count_51_60, mean_count_61_o])\n",
    "\n",
    "        plt.title(\"Group of ages / Average of charges\", fontsize=20)\n",
    "        plt.xlabel(\"Group of ages\", color='tab:blue', fontsize=15)\n",
    "        plt.ylabel(\"Average of charges\", color='tab:blue', fontsize=15)\n",
    "        plt.bar(age,charges)\n",
    "        plt.show()\n",
    "        \n",
    "        \n",
    "    def sex_average(self):\n",
    "        females = 0\n",
    "        males = 0\n",
    "        \n",
    "        for sex in sexes:\n",
    "            if sex == 'female':\n",
    "                females += 1\n",
    "            elif sex == 'male':\n",
    "                males += 1\n",
    "            \n",
    "        y = np.array([females, males])\n",
    "        mylabels = [\"Females\", \"Males\"]\n",
    "        myexplode = [0.2, 0]\n",
    "\n",
    "        \n",
    "        plt.pie(y, labels = mylabels, explode = myexplode, autopct='%1.2f%%', shadow = True)\n",
    "        plt.title(\"Average of Males and Females\\n\")\n",
    "        plt.show() \n",
    "        #####\n",
    "        smoker_woman = insurance.loc[(insurance[\"sex\"]==\"female\") & (insurance[\"smoker\"]==\"yes\"),[\"bmi\", \"charges\"]].mean()\n",
    "        non_smoker_woman = insurance.loc[(insurance[\"sex\"]==\"female\") & (insurance[\"smoker\"]==\"no\"),[\"bmi\", \"charges\"]].mean()\n",
    "        #####\n",
    "        smoker_man = insurance.loc[(insurance[\"sex\"]==\"male\") & (insurance[\"smoker\"]==\"yes\"),[\"bmi\", \"charges\"]].mean()\n",
    "        non_smoker_man = insurance.loc[(insurance[\"sex\"]==\"male\") & (insurance[\"smoker\"]==\"no\"),[\"bmi\", \"charges\"]].mean()\n",
    "        \n",
    "        print(\"The average of charges and BMI for a smoker woman are:\\n\", \n",
    "              smoker_woman,\n",
    "              \"\\n-----------------\"\n",
    "              \"\\nand for no smoker woman are:\\n\",non_smoker_woman,\n",
    "              \"\\n-----------------\\n-----------------\"\n",
    "             \"\\nand for a smoker man the averages are\\n:\", smoker_man,\n",
    "              \"\\n-----------------\"\n",
    "             \"\\nand for no smoker man are:\\n\", non_smoker_man)\n",
    "        \n",
    "    \n",
    "    def smoker_average(self):\n",
    "        smokers_and_kids = zip(num_kids, smoker_statuses)\n",
    "        kids_0_yes = 0\n",
    "        kids_1_yes = 0\n",
    "        kids_2_yes = 0\n",
    "        kids_3_yes = 0\n",
    "        kids_0_no = 0\n",
    "        kids_1_no = 0\n",
    "        kids_2_no = 0\n",
    "        kids_3_no = 0\n",
    "        for kids, smoker in smokers_and_kids:\n",
    "            if kids == 0 and smoker == \"yes\":\n",
    "                kids_0_yes += 1\n",
    "            elif kids ==1 and smoker ==\"yes\":\n",
    "                kids_1_yes += 1\n",
    "            elif kids == 2 and smoker == \"yes\":\n",
    "                kids_2_yes += 1\n",
    "            elif kids >= 3 and smoker == \"yes\":\n",
    "                kids_3_yes += 1\n",
    "            elif kids == 0 and smoker == \"no\":\n",
    "                kids_0_no += 1\n",
    "            elif kids ==1 and smoker ==\"no\":\n",
    "                kids_1_no += 1\n",
    "            elif kids == 2 and smoker == \"no\":\n",
    "                kids_2_no += 1\n",
    "            elif kids >= 3 and smoker == \"no\":\n",
    "                kids_3_no += 1\n",
    "\n",
    "        \n",
    "        smoker_0_kids = insurance[(insurance['smoker']== \"yes\") & (insurance['children'] == 0)][\"charges\"].mean()\n",
    "        no_smoker_0_kids = insurance[(insurance['smoker']== \"no\") & (insurance['children'] == 0)][\"charges\"].mean()\n",
    "        smoker_1_kids = insurance[(insurance['smoker']== \"yes\") & (insurance['children'] == 1)][\"charges\"].mean()\n",
    "        no_smoker_1_kids = insurance[(insurance['smoker']== \"no\") & (insurance['children'] == 1)][\"charges\"].mean()\n",
    "        smoker_2_kids = insurance[(insurance['smoker']== \"yes\") & (insurance['children'] == 2)][\"charges\"].mean()\n",
    "        no_smoker_2_kids = insurance[(insurance['smoker']== \"no\") & (insurance['children'] == 2)][\"charges\"].mean()\n",
    "        smoker_3_kids = insurance[(insurance['smoker']== \"yes\") & (insurance['children'] >= 3)][\"charges\"].mean()\n",
    "        no_smoker_3_kids = insurance[(insurance['smoker']== \"no\") & (insurance['children'] >= 3)][\"charges\"].mean()\n",
    "        ave_no_smokers= (sum(insurance[\"smoker\"] == \"no\")/len(insurance[\"smoker\"]))*100\n",
    "        ave_smokers= (sum(insurance[\"smoker\"] == \"yes\")/len(insurance[\"smoker\"]))*100\n",
    "        \n",
    "        print(\"The smokers with 0 kids are\", kids_0_yes, \"and the average of their charges is\", smoker_0_kids,\n",
    "             \"\\nThe smokers with 1 kid are\", kids_1_yes, \"and the average of their charges is\", smoker_1_kids,\n",
    "             \"\\nThe smokers with 2 kids are\", kids_2_yes, \"and the average of their charges is\", smoker_2_kids,\n",
    "             \"\\nThe smokers with 3 kids are\", kids_3_yes, \"and the average of their charges is\", smoker_3_kids,\n",
    "             \"\\nThe non smokers with 0 kids are\", kids_0_no, \"and the average of their charges is\", no_smoker_0_kids,\n",
    "             \"\\nThe non smokers with 1 kid are\", kids_1_no, \"and the average of their charges is\", no_smoker_1_kids,\n",
    "             \"\\nThe non smokers with 2 kids are\", kids_2_no, \"and the average of their charges is\", no_smoker_2_kids,\n",
    "             \"\\nThe non smokers with 3 kids are\", kids_3_no, \"and the average of their charges is\", no_smoker_3_kids,\n",
    "             \"\\nThe total averagre of smokers is\",round(ave_smokers),\"% and the non smokers is\", round(ave_no_smokers),\"%\" )\n",
    "        \n",
    "    def region_average(self):\n",
    "        all_region = []\n",
    "        for region in regions:\n",
    "            if region not in all_region: \n",
    "                all_region.append(region)\n",
    "        smoker_charges_region_0 = insurance[(insurance[\"region\"]==all_region[0]) & (insurance[\"smoker\"] == \"yes\")][\"charges\"].mean()\n",
    "        no_smoker_charges_region_0 = insurance[(insurance[\"region\"]==all_region[0]) & (insurance[\"smoker\"] == \"no\")][\"charges\"].mean()\n",
    "        smoker_charges_region_1 = insurance[(insurance[\"region\"]==all_region[1]) & (insurance[\"smoker\"] == \"yes\")][\"charges\"].mean()\n",
    "        no_smoker_charges_region_1 = insurance[(insurance[\"region\"]==all_region[1]) & (insurance[\"smoker\"] == \"no\")][\"charges\"].mean()\n",
    "        smoker_charges_region_2 = insurance[(insurance[\"region\"]==all_region[2]) & (insurance[\"smoker\"] == \"yes\")][\"charges\"].mean()\n",
    "        no_smoker_charges_region_2 = insurance[(insurance[\"region\"]==all_region[2]) & (insurance[\"smoker\"] == \"no\")][\"charges\"].mean()\n",
    "        smoker_charges_region_3 = insurance[(insurance[\"region\"]==all_region[3]) & (insurance[\"smoker\"] == \"yes\")][\"charges\"].mean()\n",
    "        no_smoker_charges_region_3 = insurance[(insurance[\"region\"]==all_region[3]) & (insurance[\"smoker\"] == \"no\")][\"charges\"].mean()\n",
    "\n",
    "        print(\"For the region of\", all_region[0], \"the charges for smokers are\", smoker_charges_region_0,\"and for non smokers\",no_smoker_charges_region_0,\n",
    "             \"\\nFor the region of\", all_region[1], \"the charges for smokers are\", smoker_charges_region_1,\"and for non smokers\",no_smoker_charges_region_1,\n",
    "             \"\\nFor the region of\", all_region[2], \"the charges for smokers are\", smoker_charges_region_2,\"and for non smokers\",no_smoker_charges_region_2,\n",
    "             \"\\nFor the region of\", all_region[3], \"the charges for smokers are\", smoker_charges_region_3,\"and for non smokers\",no_smoker_charges_region_3,)  \n",
    "        "
   ]
  },
  {
   "cell_type": "code",
   "execution_count": 4,
   "metadata": {},
   "outputs": [],
   "source": [
    "us_insurance = US_Insurance(ages, sexes, bmis, num_kids, smoker_statuses, regions, insurance_charges)"
   ]
  },
  {
   "cell_type": "code",
   "execution_count": 5,
   "metadata": {},
   "outputs": [
    {
     "name": "stdout",
     "output_type": "stream",
     "text": [
      "The sum for the ages: \n",
      "20s and less are 166 and the average of annual charges 8713.482412584337 \n",
      "corresponding for 21 to 30 is 278 and annual charges 9806.025289100717 \n",
      "for 31 to 40 is 257 and charges 11639.308653151753 \n",
      "for 41 to 50 is 281 and charges 14782.043077117436 \n",
      "for 51 to 60 is 265 and charges 17062.29276286792 \n",
      "and last 61 and over are 91 and charges 12870.58239885748\n"
     ]
    },
    {
     "data": {
      "image/png": "[encoded data removed]",
      "text/plain": [
       "<Figure size 432x288 with 1 Axes>"
      ]
     },
     "metadata": {
      "needs_background": "light"
     },
     "output_type": "display_data"
    }
   ],
   "source": [
    "us_insurance.age_average()"
   ]
  },
  {
   "cell_type": "code",
   "execution_count": 6,
   "metadata": {},
   "outputs": [
    {
     "data": {
      "image/png": "[encoded data removed]",
      "text/plain": [
       "<Figure size 432x288 with 1 Axes>"
      ]
     },
     "metadata": {},
     "output_type": "display_data"
    },
    {
     "name": "stdout",
     "output_type": "stream",
     "text": [
      "The average of charges and BMI for a smoker woman are:\n",
      " bmi           29.608261\n",
      "charges    30678.996276\n",
      "dtype: float64 \n",
      "-----------------\n",
      "and for no smoker woman are:\n",
      " bmi          30.539525\n",
      "charges    8762.297300\n",
      "dtype: float64 \n",
      "-----------------\n",
      "-----------------\n",
      "and for a smoker man the averages are\n",
      ": bmi           31.504182\n",
      "charges    33042.005975\n",
      "dtype: float64 \n",
      "-----------------\n",
      "and for no smoker man are:\n",
      " bmi          30.770580\n",
      "charges    8087.204731\n",
      "dtype: float64\n"
     ]
    }
   ],
   "source": [
    "us_insurance.sex_average()"
   ]
  },
  {
   "cell_type": "code",
   "execution_count": 7,
   "metadata": {},
   "outputs": [
    {
     "name": "stdout",
     "output_type": "stream",
     "text": [
      "The smokers with 0 kids are 115 and the average of their charges is 31341.363953652173 \n",
      "The smokers with 1 kid are 61 and the average of their charges is 31822.654334262297 \n",
      "The smokers with 2 kids are 55 and the average of their charges is 33844.2357549091 \n",
      "The smokers with 3 kids are 43 and the average of their charges is 31974.227587441856 \n",
      "The non smokers with 0 kids are 459 and the average of their charges is 7611.7933347908465 \n",
      "The non smokers with 1 kid are 263 and the average of their charges is 8303.109350038027 \n",
      "The non smokers with 2 kids are 185 and the average of their charges is 9493.093673675678 \n",
      "The non smokers with 3 kids are 157 and the average of their charges is 9810.880506751591 \n",
      "The total averagre of smokers is 20 % and the non smokers is 80 %\n"
     ]
    }
   ],
   "source": [
    "us_insurance.smoker_average()"
   ]
  },
  {
   "cell_type": "code",
   "execution_count": 8,
   "metadata": {},
   "outputs": [
    {
     "name": "stdout",
     "output_type": "stream",
     "text": [
      "For the region of southwest the charges for smokers are 32269.0634936207 and for non smokers 8019.284513071164 \n",
      "For the region of southeast the charges for smokers are 34844.99682362637 and for non smokers 8032.216308937727 \n",
      "For the region of northwest the charges for smokers are 30192.003182413788 and for non smokers 8556.463715205993 \n",
      "For the region of northeast the charges for smokers are 29673.536472835818 and for non smokers 9165.531671708171\n"
     ]
    }
   ],
   "source": [
    "us_insurance.region_average()"
   ]
  }
 ],
 "metadata": {
  "kernelspec": {
   "display_name": "Python 3",
   "language": "python",
   "name": "python3"
  },
  "language_info": {
   "codemirror_mode": {
    "name": "ipython",
    "version": 3
   },
   "file_extension": ".py",
   "mimetype": "text/x-python",
   "name": "python",
   "nbconvert_exporter": "python",
   "pygments_lexer": "ipython3",
   "version": "3.8.5"
  }
 },
 "nbformat": 4,
 "nbformat_minor": 4
}
